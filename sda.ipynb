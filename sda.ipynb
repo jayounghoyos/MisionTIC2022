{
 "cells": [
  {
   "cell_type": "markdown",
   "metadata": {},
   "source": [
    "Algoritmo Problema_1\n",
    "\n",
    "\tDefinir SaldoJuan, mensual Como real\n",
    "\t\n",
    "\tEscribir \"digita cuanto dinero vas a invertir sin comas ni puntos, por favor\"\n",
    "\tLeer SaldoJuan\n",
    "\t\n",
    "\tmensual =(SaldoJuan *2)/100\n",
    "\t\n",
    "\tMostrar \"Tus ganancias en un mes serán de\" mensual+SaldoJuan \"pesos\"\n",
    "\t\n",
    "FinAlgoritmo\n",
    "\n",
    "\n",
    "![Imagen](problema_3.png \"alternative Title\")\n",
    "\n",
    "\n"
   ]
  }
 ],
 "metadata": {
  "interpreter": {
   "hash": "047dc5aa1668e5c5056b6ffc4b746aad32aa0bd16f0ca8bec0d821692283ac09"
  },
  "kernelspec": {
   "display_name": "Python 3.10.1 64-bit",
   "language": "python",
   "name": "python3"
  },
  "language_info": {
   "codemirror_mode": {
    "name": "ipython",
    "version": 3
   },
   "file_extension": ".py",
   "mimetype": "text/x-python",
   "name": "python",
   "nbconvert_exporter": "python",
   "pygments_lexer": "ipython3",
   "version": "3.10.1"
  },
  "orig_nbformat": 4
 },
 "nbformat": 4,
 "nbformat_minor": 2
}
